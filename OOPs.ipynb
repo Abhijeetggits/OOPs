{
  "nbformat": 4,
  "nbformat_minor": 0,
  "metadata": {
    "colab": {
      "provenance": []
    },
    "kernelspec": {
      "name": "python3",
      "display_name": "Python 3"
    },
    "language_info": {
      "name": "python"
    }
  },
  "cells": [
    {
      "cell_type": "markdown",
      "source": [],
      "metadata": {
        "id": "ARdsXXocXSFn"
      }
    },
    {
      "cell_type": "markdown",
      "source": [
        "# Python OOPs Questions"
      ],
      "metadata": {
        "id": "CNSGOTXHXTzb"
      }
    },
    {
      "cell_type": "markdown",
      "source": [
        "# 1. What is Object-Oriented Programming (OOP)?\n",
        "\n",
        "   -> Object-Oriented Programming (OOP) is a programming paradigm based on\n",
        "      the concept of \"objects,\" which can contain data in the form of attributes (also called properties or fields) and code in the form of methods (functions). OOP allows programmers to model real-world entities as objects, making code more modular, reusable, and easier to maintain. The key principles of OOP include encapsulation, inheritance, polymorphism, and abstraction.\n",
        "\n",
        "      example:-\n",
        "        class Car:\n",
        "      def __init__(self, brand, model):\n",
        "          self.brand = brand\n",
        "          self.model = model\n",
        "\n",
        "      def drive(self):\n",
        "          print(f\"The {self.brand} {self.model} is driving.\")\n",
        "\n",
        "     # Creating an object of Car\n",
        "    my_car = Car(\"Toyota\", \"Corolla\")\n",
        "    my_car.drive()\n",
        "\n",
        "       "
      ],
      "metadata": {
        "id": "cEaG8b98uqsT"
      }
    },
    {
      "cell_type": "markdown",
      "source": [
        "# 2. What is a class in OOP?\n",
        "\n",
        " -> Definition:\n",
        "     A class in Object-Oriented Programming (OOP) is a user-defined data type that acts as a blueprint for creating objects. It defines properties (called data members) and behaviors (called member functions or methods) that the objects created from the class will have.\n"
      ],
      "metadata": {
        "id": "pcP0KmXcY0zE"
      }
    },
    {
      "cell_type": "markdown",
      "source": [
        "# 3. What is an object in OOP?\n",
        "\n",
        "  ->Definition:\n",
        "     A class in Object-Oriented Programming (OOP) is a user-defined data structure that serves as a blueprint for creating objects. It binds data and the functions that operate on that data into a single unit."
      ],
      "metadata": {
        "id": "DcxFc0w9ZiBP"
      }
    },
    {
      "cell_type": "markdown",
      "source": [
        "# 4. What is the difference between abstraction and encapsulation?\n",
        "\n",
        " ->   Abstraction :-\n",
        "       Abstraction is the process of hiding the internal implementation\n",
        "       details and showing only the essential features of an object. It helps the user focus on what an object does instead of how it does it.\n",
        "\n",
        "        Example:\n",
        "          Using a TV remote – you press a button to increase volume without knowing the internal circuit or working.\n",
        "    \n",
        "      Encapsulatnio:-\n",
        "      Encapsulatnio is the process of binding data and functions that manipulate the data into a single unit (i.e., a class), and restricting access to some components to protect the integrity of the object.\n",
        "\n",
        "      Example:\n",
        "          A class with private variables and public methods. The private data can only be changed using those methods."
      ],
      "metadata": {
        "id": "On3g7I3uZ4Bg"
      }
    },
    {
      "cell_type": "markdown",
      "source": [
        "# 5. What are dunder methods in Python?\n",
        "\n",
        " -> Dunder methods in Python (short for Double UNDERSCORE methods) are\n",
        "    special methods that begin and end with double underscores (__method__). These methods are also called magic methods and are used to define the behavior of objects in Python.\n",
        "\n",
        "    Example:\n",
        "       __init__(), __str__(), __len__(), __add__()"
      ],
      "metadata": {
        "id": "v27k6ie-ax2z"
      }
    },
    {
      "cell_type": "markdown",
      "source": [
        "# 6. Explain the concept of inheritance in OOP?\n",
        "\n",
        "  -> Inheritance is a fundamental concept in Object-Oriented Programming\n",
        "     (OOP) where a new class (child class) is created by reusing the properties and behaviors of an existing class (parent class). It allows code reusability, extensibility, and promotes hierarchical classification.\n",
        "\n",
        "     In inheritance:\n",
        "      The parent class (also called base class) contains general features.\n",
        "      The child class (also called derived class) can access, extend, or modify the features of the parent class."
      ],
      "metadata": {
        "id": "6jfO4CHVbfFe"
      }
    },
    {
      "cell_type": "markdown",
      "source": [
        "# 7. What is polymorphism in OOP?\n",
        "\n",
        " ->Polymorphism:-\n",
        "    Polymorphism in Object-Oriented Programming (OOP) is a concept where a\n",
        "    single function, operator, or object behaves differently in different situations. The word \"polymorphism\" means \"many forms\".\n",
        "\n",
        "    It allows the same operation or function name to behave differently based on the context, such as the type or number of argument"
      ],
      "metadata": {
        "id": "Kf-CtfeWb0sS"
      }
    },
    {
      "cell_type": "markdown",
      "source": [
        "# 8. How is encapsulation achieved in Python?\n",
        "\n",
        " -> Encapsulation:-\n",
        "    Encapsulation in Object-Oriented Programming (OOP) is the technique of\n",
        "    wrapping data (variables) and the methods that operate on that data into a single unit — usually a class. It also means restricting direct access to some of the object’s components, which is done to prevent accidental modification.\n",
        "\n",
        "    1.Classes to bind data and functions.\n",
        "    2.Access modifiers like:\n",
        "\n",
        "       * public (default): accessible from anywhere.\n",
        "       * _protected: accessible within the class and subclasses.\n",
        "       * __private: accessible only within the class.\n",
        "\n"
      ],
      "metadata": {
        "id": "Z2dbSJXbcP55"
      }
    },
    {
      "cell_type": "markdown",
      "source": [
        "# 9. What is a constructor in Python?\n",
        "\n",
        " -> A constructor in Python is a special method named __init__() that is\n",
        "    automatically called when a new object of a class is created. It is used to initialize the attributes of the object.\n",
        "    The constructor method __init__() allows you to set initial values for object properties.\n",
        "\n",
        "    1. It helps to create objects with customized initial states.\n",
        "    2.Unlike some other languages, Python constructors do not return anything; their purpose is only to initialize the object."
      ],
      "metadata": {
        "id": "TCk6lAYxc_Vm"
      }
    },
    {
      "cell_type": "markdown",
      "source": [
        "# 10. What are class and static methods in Python?\n",
        "\n",
        "-> 1.Class methods are methods that are bound to the class itself, not the\n",
        "   instance of the class. They can modify the class state that applies across all instances of the class.\n",
        "\n",
        "   2.Static methods are methods that do not depend on the class or instance. They behave like regular functions but belong to the class’s namespace."
      ],
      "metadata": {
        "id": "95KpazVhdVbS"
      }
    },
    {
      "cell_type": "markdown",
      "source": [
        "# 11. What is method overloading in Python?\n",
        "\n",
        "-> Method overloading is the ability to create multiple methods with the\n",
        "   same name but different parameters (different number or types of arguments) in the same class, allowing the method to behave differently based on input.\n",
        "\n",
        "🧠 Explanation:\n",
        "    * In many programming languages like C++ and Java, method overloading\n",
        "      means multiple methods with the same name but different parameter lists can coexist.\n",
        "\n",
        "   * Python does NOT support traditional method overloading directly\n",
        "     because the latest defined method overrides the previous ones.\n",
        "\n",
        "   * However, Python allows default arguments and variable-length\n",
        "     arguments to achieve similar behavior manually.\n",
        "\n"
      ],
      "metadata": {
        "id": "i2ak8eH_dqyz"
      }
    },
    {
      "cell_type": "markdown",
      "source": [
        "# 12. What is method overriding in OOP?\n",
        "\n",
        "-> Method overriding is a feature in Object-Oriented Programming where a\n",
        "   child class provides its own implementation of a method that is already defined in its parent class. This allows the child class to modify or extend the behavior of the inherited method.\n",
        "\n",
        "   When a method in the child class has the same name, return type, and parameters as a method in the parent class, the child’s method overrides the parent’s method. This supports runtime polymorphism, enabling dynamic method dispatch. Method overriding allows a subclass to customize or replace behavior defined in the superclass."
      ],
      "metadata": {
        "id": "oZKBH0YVeLLf"
      }
    },
    {
      "cell_type": "markdown",
      "source": [
        "# 13. What is a property decorator in Python?\n",
        "\n",
        " -> Property decorator in Python is a built-in decorator @property that\n",
        "    allows you to define methods in a class that behave like attributes. It is used to access methods as if they were attributes, enabling controlled access to instance variables, often to implement getter, setter, and deleter functionality without directly accessing the variables.\n",
        "\n"
      ],
      "metadata": {
        "id": "rGbywiFheh3r"
      }
    },
    {
      "cell_type": "markdown",
      "source": [
        "# 14.  Why is polymorphism important in OOP?\n",
        "\n",
        "->\n",
        "  Polymorphism is important in Object-Oriented Programming (OOP) because it allows one interface to be used for a general class of actions, enabling different data types or classes to be treated uniformly. This promotes flexibility, scalability, and maintainability in programming.\n",
        "\n",
        "  With polymorphism, the same method or function can work with different types of objects, allowing code to be more reusable and extensible without modification. It supports dynamic method dispatch, meaning that the appropriate method is called at runtime based on the object’s actual type.\n",
        "\n",
        "  Key reasons why polymorphism is important:\n",
        "\n",
        "   * Simplifies code: The same interface can work with different data\n",
        "     types, reducing the need for multiple function names or complex conditionals.\n",
        "\n",
        "   * Enhances flexibility: New classes can be introduced with minimal\n",
        "     changes to existing code.\n",
        "\n",
        "   * Supports code reusability: Polymorphic code can work with objects of\n",
        "     different classes.\n",
        "\n",
        "   * Enables runtime decision: The program can decide which method to\n",
        "     invoke at runtime, leading to dynamic behavior"
      ],
      "metadata": {
        "id": "6HOzIEF7ezPE"
      }
    },
    {
      "cell_type": "markdown",
      "source": [
        "# 15. What is an abstract class in Python?\n",
        "\n",
        "-> An abstract class in Python is a class that cannot be instantiated\n",
        "    directly and is meant to be a base class for other classes. It usually contains one or more abstract methods, which are methods declared but without an implementation. Subclasses inheriting from the abstract class must override and implement these abstract methods.\n",
        "\n",
        "    Abstract classes are used to provide a common interface and enforce certain methods to be implemented in derived classes, ensuring a consistent design."
      ],
      "metadata": {
        "id": "YB51bccCfUdi"
      }
    },
    {
      "cell_type": "markdown",
      "source": [
        "# 16. What are the advantages of OOP?\n",
        "\n",
        "-> Object-Oriented Programming (OOP) offers several advantages that make\n",
        "   software development more efficient, modular, and easier to maintain. The main advantages of OOP are:\n",
        "\n",
        "   Modularity:\n",
        "\n",
        "    Code is organized into classes and objects, making it easier to manage, understand, and debug.\n",
        "\n",
        "   Reusability:\n",
        "\n",
        "    Classes and objects can be reused across programs. Inheritance allows new classes to reuse existing code, reducing redundancy.\n",
        "\n",
        "  Encapsulation:\n",
        "   Data and methods are bundled together, restricting direct access to some components and protecting the internal state of objects.\n",
        "\n",
        "\n",
        "\n",
        "  Abstraction:\n",
        "   Complex implementation details are hidden, exposing only necessary parts through interfaces. This reduces complexity for users of the class.\n",
        "\n",
        "\n",
        "\n",
        "  Polymorphism:\n",
        "   Objects of different classes can be treated as objects of a common superclass, enabling flexibility and the ability to use a unified interface.\n",
        "\n",
        "\n",
        "\n",
        "  Maintainability:\n",
        "   OOP code is easier to modify and extend because of its modular nature and use of inheritance and polymorphism.\n",
        "\n",
        "\n",
        "\n",
        "  Improved Productivity:\n",
        "   Developers can build on existing work, reuse code, and manage complexity more effectively, which speeds up the development process.\n",
        "\n"
      ],
      "metadata": {
        "id": "sf_qZIQcfhiN"
      }
    },
    {
      "cell_type": "markdown",
      "source": [
        "# 17.  What is the difference between a class variable and an instance\n",
        "       variable?\n",
        "\n",
        "  -> A class variable is a variable that is shared by all instances  \n",
        "    (objects) of a class. It is declared inside the class but outside any method. Class variables store values common to all objects of the class.\n",
        "\n",
        "    An instance variable is a variable that is unique to each instance of the class. It is declared inside methods, usually inside the constructor (__init__), using the self keyword. Instance variables store data specific to each object\n",
        "\n",
        "    class Student:\n",
        "    school_name = \"ABC School\"   # Class variable\n",
        "\n",
        "      def __init__(self, name):\n",
        "          self.name = name          # Instance variable\n",
        "\n",
        "    s1 = Student(\"Abhijeet\")\n",
        "    s2 = Student(\"Zipe\")\n",
        "\n",
        "    print(s1.name)          # Output: Abhijeet\n",
        "    print(s2.name)          # Output: Zipe\n",
        "\n",
        "    print(Student.school_name)  # Output: ABC School\n",
        "    print(s1.school_name)       # Output: ABC School\n"
      ],
      "metadata": {
        "id": "b4GRYEm_gVcN"
      }
    },
    {
      "cell_type": "markdown",
      "source": [
        "# 18. What is multiple inheritance in Python?\n",
        "\n",
        "-> Multiple inheritance in Python is a feature where a class can inherit\n",
        "    attributes and methods from more than one parent class. This allows a derived class to combine functionalities from multiple base classes.\n",
        "\n",
        "\n"
      ],
      "metadata": {
        "id": "QxDWMhoog9F0"
      }
    },
    {
      "cell_type": "markdown",
      "source": [
        "# 19. Explain the purpose of ‘’__str__’ and ‘__repr__’ ‘ methods in Python?\n",
        "\n",
        "-> In Python, __str__ and __repr__ are special dunder methods used to\n",
        "   define how objects of a class are represented as strings.\n",
        "\n",
        "    __str__ is meant to return a user-friendly, readable string representation of an object. It is used by the print() function and str().\n",
        "\n",
        "   __repr__ is meant to return an official, unambiguous string representation of the object that can ideally be used to recreate the object. It is used by the repr() function and in the interactive interpreter."
      ],
      "metadata": {
        "id": "j192JzZqhUa_"
      }
    },
    {
      "cell_type": "markdown",
      "source": [
        "# 20. What is the significance of the ‘super()’ function in Python?\n",
        "\n",
        "-> The super() function in Python is used to call methods from a parent\n",
        "   (super) class inside a subclass. It provides a way to access inherited methods that have been overridden in the child class, allowing you to reuse and extend the functionality of the parent class.\n",
        "\n"
      ],
      "metadata": {
        "id": "wnVPxXkuhvCE"
      }
    },
    {
      "cell_type": "markdown",
      "source": [
        "# 21. What is the significance of the __del__ method in Python?\n",
        "\n",
        "  -> The __del__ method in Python is a special destructor method that is\n",
        "      called when an object is about to be destroyed or garbage collected. It allows a class to define cleanup actions that should happen just before the object’s memory is reclaimed.\n",
        "\n",
        "     Explanation:-\n",
        "      *  The __del__ method is automatically invoked when an object’s\n",
        "         reference count reaches zero, meaning no references to the object exist.\n",
        "\n",
        "       * It is typically used to release external resources such as files,\n",
        "         network connections, or database connections held by the object.\n",
        "\n",
        "      * It helps in performing necessary cleanup operations like closing\n",
        "        files or freeing up resources.\n",
        "\n"
      ],
      "metadata": {
        "id": "CrnUmAexh7Kd"
      }
    },
    {
      "cell_type": "markdown",
      "source": [
        "# 22. What is the difference between @staticmethod and @classmethod in Python?\n",
        "\n",
        "  -> Both @staticmethod and @classmethod are decorators in Python used to\n",
        "     define methods inside a class that are not tied to a particular instance. However, they differ in how they operate and what they receive as their first argument.\n",
        "     \n",
        "     example:-\n",
        "     class MyClass:\n",
        "\n",
        "    @staticmethod\n",
        "    def static_method():\n",
        "        print(\"Static method called\")\n",
        "\n",
        "        @classmethod\n",
        "        def class_method(cls):\n",
        "            print(f\"Class method called by {cls}\")\n",
        "\n",
        "    MyClass.static_method()  # Output: Static method called\n",
        "    MyClass.class_method()   # Output: Class method called by <class '__main__.MyClass'>\n"
      ],
      "metadata": {
        "id": "b5Yh06TZiZ1N"
      }
    },
    {
      "cell_type": "markdown",
      "source": [
        "# 23.  How does polymorphism work in Python with inheritance?\n",
        "\n",
        " -> Polymorphism in Python with inheritance allows different classes\n",
        "     related by inheritance to have methods with the same name, but each class can implement the method differently. When a method is called on an object, Python determines at runtime which version of the method to execute based on the object’s actual class. This is known as method overriding and is a key feature of polymorphism.\n",
        "\n"
      ],
      "metadata": {
        "id": "7hhXkh61jBuW"
      }
    },
    {
      "cell_type": "markdown",
      "source": [
        "# 24. What is method chaining in Python OOP?\n",
        "\n",
        " -> Method chaining in Python Object-Oriented Programming (OOP) is a\n",
        "    technique where multiple method calls are linked together in a single statement, one after another, using the dot (.) operator. Each method returns the object itself (self), allowing the next method to be called directly on the same object."
      ],
      "metadata": {
        "id": "zwfvcOBtjN-s"
      }
    },
    {
      "cell_type": "markdown",
      "source": [
        "# 25. What is the purpose of the __call__ method in Python?\n",
        "\n",
        " -> The __call__ method in Python is a special dunder method that allows\n",
        "    an instance of a class to be called as if it were a function. By defining the __call__ method inside a class, you enable objects of that class to be invoked directly with parentheses, like regular functions.\n",
        "\n"
      ],
      "metadata": {
        "id": "nO_-owEhjcj4"
      }
    },
    {
      "cell_type": "markdown",
      "source": [
        "# Practical Questions"
      ],
      "metadata": {
        "id": "BVUVveCco-sn"
      }
    },
    {
      "cell_type": "code",
      "source": [
        "# 1. Create a parent class Animal with a method speak() that prints a generic message. Create a child class Dog that overrides the speak() method to print \"Bark!\".\n",
        "\n",
        "# Parent class\n",
        "class Animal:\n",
        "    def speak(self):\n",
        "        print(\"The animal makes a sound.\")\n",
        "\n",
        "# Child class\n",
        "class Dog(Animal):\n",
        "    def speak(self):\n",
        "        print(\"Bark!\")\n",
        "\n",
        "# Creating objects and calling methods\n",
        "a = Animal()\n",
        "a.speak() # Output: The animal makes a sound.\n",
        "\n",
        "d = Dog()\n",
        "d.speak() # Output: Bark!\n",
        "\n"
      ],
      "metadata": {
        "colab": {
          "base_uri": "https://localhost:8080/"
        },
        "id": "TupaMmpopBrL",
        "outputId": "94adf63d-8ae3-4323-93be-cde3bfe62fc8"
      },
      "execution_count": 1,
      "outputs": [
        {
          "output_type": "stream",
          "name": "stdout",
          "text": [
            "The animal makes a sound.\n",
            "Bark!\n"
          ]
        }
      ]
    },
    {
      "cell_type": "code",
      "source": [
        "# 2. Write a program to create an abstract class Shape with a method area(). Derive classes Circle and Rectangle from it and implement the area() method in both.\n",
        "\n",
        "from abc import ABC, abstractmethod\n",
        "import math\n",
        "\n",
        "# Abstract base class\n",
        "class Shape(ABC):\n",
        "    @abstractmethod\n",
        "    def area(self):\n",
        "        pass\n",
        "\n",
        "# Derived class for Circle\n",
        "class Circle(Shape):\n",
        "    def __init__(self, radius):\n",
        "        self.radius = radius\n",
        "\n",
        "    def area(self):\n",
        "        return math.pi * self.radius * self.radius\n",
        "\n",
        "# Derived class for Rectangle\n",
        "class Rectangle(Shape):\n",
        "    def __init__(self, length, width):\n",
        "        self.length = length\n",
        "        self.width = width\n",
        "\n",
        "    def area(self):\n",
        "        return self.length * self.width\n",
        "\n",
        "# Creating objects and displaying area\n",
        "c = Circle(5)\n",
        "r = Rectangle(4, 6)\n",
        "\n",
        "print(\"Area of Circle:\", c.area())\n",
        "print(\"Area of Rectangle:\", r.area())\n",
        "\n"
      ],
      "metadata": {
        "colab": {
          "base_uri": "https://localhost:8080/"
        },
        "id": "5Qhpd75-pi-s",
        "outputId": "93d1caab-1a2e-4f6e-da14-46561255b2f4"
      },
      "execution_count": 3,
      "outputs": [
        {
          "output_type": "stream",
          "name": "stdout",
          "text": [
            "Area of Circle: 78.53981633974483\n",
            "Area of Rectangle: 24\n"
          ]
        }
      ]
    },
    {
      "cell_type": "code",
      "source": [
        "# 3. Implement a multi-level inheritance scenario where a class Vehicle has an attribute type. Derive a class Car and further derive a class ElectricCar that adds a battery attribute.\n",
        "\n",
        "# Base class\n",
        "class Vehicle:\n",
        "    def __init__(self, type):\n",
        "        self.type = type\n",
        "\n",
        "    def show_type(self):\n",
        "        print(f\"Vehicle Type: {self.type}\")\n",
        "\n",
        "# Derived class\n",
        "class Car(Vehicle):\n",
        "    def __init__(self, type, brand):\n",
        "        super().__init__(type)\n",
        "        self.brand = brand\n",
        "\n",
        "    def show_brand(self):\n",
        "        print(f\"Car Brand: {self.brand}\")\n",
        "\n",
        "# Further derived class\n",
        "class ElectricCar(Car):\n",
        "    def __init__(self, type, brand, battery):\n",
        "        super().__init__(type, brand)\n",
        "        self.battery = battery\n",
        "\n",
        "    def show_battery(self):\n",
        "        print(f\"Battery Capacity: {self.battery} kWh\")\n",
        "\n",
        "# Creating object of ElectricCar\n",
        "e_car = ElectricCar(\"Four-Wheeler\", \"Tesla\", 75)\n",
        "\n",
        "# Displaying attributes\n",
        "e_car.show_type()      # Output: Vehicle Type: Four-Wheeler\n",
        "e_car.show_brand()     # Output: Car Brand: Tesla\n",
        "e_car.show_battery()   # Output: Battery Capacity: 75 kWh\n"
      ],
      "metadata": {
        "colab": {
          "base_uri": "https://localhost:8080/"
        },
        "id": "DbnVAJyep616",
        "outputId": "b7b307c3-0120-4066-ff42-5b2daeb3cc77"
      },
      "execution_count": 4,
      "outputs": [
        {
          "output_type": "stream",
          "name": "stdout",
          "text": [
            "Vehicle Type: Four-Wheeler\n",
            "Car Brand: Tesla\n",
            "Battery Capacity: 75 kWh\n"
          ]
        }
      ]
    },
    {
      "cell_type": "code",
      "source": [
        "# 4. Demonstrate polymorphism by creating a base class Bird with a method fly(). Create two derived classes Sparrow and Penguin that override the fly() method.\n",
        "\n",
        "# Base class\n",
        "class Bird:\n",
        "    def fly(self):\n",
        "        print(\"Some bird is flying.\")\n",
        "\n",
        "# Derived class\n",
        "class Sparrow(Bird):\n",
        "    def fly(self):\n",
        "        print(\"Sparrow flies high in the sky.\")\n",
        "\n",
        "# Derived class\n",
        "class Penguin(Bird):\n",
        "    def fly(self):\n",
        "        print(\"Penguins cannot fly but swim very well.\")\n",
        "\n",
        "# Polymorphism in action\n",
        "def show_flying_ability(bird):\n",
        "    bird.fly()  # Method called is based on the object passed\n",
        "\n",
        "# Creating objects\n",
        "s = Sparrow()\n",
        "p = Penguin()\n",
        "\n",
        "# Demonstrating polymorphism\n",
        "show_flying_ability(s)\n",
        "show_flying_ability(p)\n"
      ],
      "metadata": {
        "colab": {
          "base_uri": "https://localhost:8080/"
        },
        "id": "KTBEltSlqO6O",
        "outputId": "6203be1d-06a7-43c9-b448-ee0569e9bb9b"
      },
      "execution_count": 6,
      "outputs": [
        {
          "output_type": "stream",
          "name": "stdout",
          "text": [
            "Sparrow flies high in the sky.\n",
            "Penguins cannot fly but swim very well.\n"
          ]
        }
      ]
    },
    {
      "cell_type": "code",
      "source": [
        "# 5. Write a program to demonstrate encapsulation by creating a class BankAccount with private attributes balance and methods to deposit, withdraw, and check balance.\n",
        "\n",
        "class BankAccount:\n",
        "    def __init__(self, initial_balance):\n",
        "        self.__balance = initial_balance  # Private attribute\n",
        "\n",
        "    def deposit(self, amount):\n",
        "        if amount > 0:\n",
        "            self.__balance += amount\n",
        "            print(f\"Deposited: ₹{amount}\")\n",
        "        else:\n",
        "            print(\"Deposit amount must be positive.\")\n",
        "\n",
        "    def withdraw(self, amount):\n",
        "        if 0 < amount <= self.__balance:\n",
        "            self.__balance -= amount\n",
        "            print(f\"Withdrawn: ₹{amount}\")\n",
        "        else:\n",
        "            print(\"Insufficient balance or invalid amount.\")\n",
        "\n",
        "    def check_balance(self):\n",
        "        print(f\"Current Balance: ₹{self.__balance}\")\n",
        "\n",
        "    # Creating an object of BankAccount\n",
        "account = BankAccount(1000)\n",
        "\n",
        "# Performing operations\n",
        "account.check_balance()     # Output: Current Balance: ₹1000\n",
        "account.deposit(500)        # Output: Deposited: ₹500\n",
        "account.withdraw(300)       # Output: Withdrawn: ₹300\n",
        "account.check_balance()     # Output: Current Balance: ₹1200\n",
        "\n",
        "\n",
        "\n"
      ],
      "metadata": {
        "colab": {
          "base_uri": "https://localhost:8080/"
        },
        "id": "CVxCs2xPqb8Q",
        "outputId": "08cfa780-1740-487c-c553-b45092d74957"
      },
      "execution_count": 12,
      "outputs": [
        {
          "output_type": "stream",
          "name": "stdout",
          "text": [
            "Current Balance: ₹1000\n",
            "Deposited: ₹500\n",
            "Withdrawn: ₹300\n",
            "Current Balance: ₹1200\n"
          ]
        }
      ]
    },
    {
      "cell_type": "code",
      "source": [
        "# 6. Demonstrate runtime polymorphism using a method play() in a base class Instrument. Derive classes Guitarand Piano that implement their own version of play().\n",
        "\n",
        "# Base class\n",
        "class Instrument:\n",
        "    def play(self):\n",
        "        print(\"Playing an instrument.\")\n",
        "\n",
        "# Derived class Guitar\n",
        "class Guitar(Instrument):\n",
        "    def play(self):\n",
        "        print(\"Strumming the guitar.\")\n",
        "\n",
        "# Derived class Piano\n",
        "class Piano(Instrument):\n",
        "    def play(self):\n",
        "        print(\"Playing the piano.\")\n",
        "\n",
        "# Function to demonstrate runtime polymorphism\n",
        "def show_playing(instrument):\n",
        "    instrument.play()\n",
        "\n",
        "# Creating objects\n",
        "g = Guitar()\n",
        "p = Piano()\n",
        "\n",
        "# Calling function with different objects\n",
        "show_playing(g)\n",
        "show_playing(p)\n"
      ],
      "metadata": {
        "colab": {
          "base_uri": "https://localhost:8080/"
        },
        "id": "hWW2gcG9rEOH",
        "outputId": "a3565eb9-5f44-487d-89af-482968635f7f"
      },
      "execution_count": 13,
      "outputs": [
        {
          "output_type": "stream",
          "name": "stdout",
          "text": [
            "Strumming the guitar.\n",
            "Playing the piano.\n"
          ]
        }
      ]
    },
    {
      "cell_type": "code",
      "source": [
        "# 7. Create a class MathOperations with a class method add_numbers() to add two numbers and a static method subtract_numbers() to subtract two numbers\n",
        "\n",
        "class MathOperations:\n",
        "    @classmethod\n",
        "    def add_numbers(cls, a, b):\n",
        "        return a + b\n",
        "\n",
        "    @staticmethod\n",
        "    def subtract_numbers(a, b):\n",
        "        return a - b\n",
        "\n",
        "# Using class method\n",
        "result_add = MathOperations.add_numbers(10, 5)\n",
        "print(\"Addition Result:\", result_add)\n",
        "\n",
        "# Using static method\n",
        "result_sub = MathOperations.subtract_numbers(10, 5)\n",
        "print(\"Subtraction Result:\", result_sub)\n"
      ],
      "metadata": {
        "colab": {
          "base_uri": "https://localhost:8080/"
        },
        "id": "uyueURzJrZty",
        "outputId": "7928c46c-ec4c-44d2-9f04-a3aec189fdfd"
      },
      "execution_count": 14,
      "outputs": [
        {
          "output_type": "stream",
          "name": "stdout",
          "text": [
            "Addition Result: 15\n",
            "Subtraction Result: 5\n"
          ]
        }
      ]
    },
    {
      "cell_type": "code",
      "source": [
        "# 8. Implement a class Person with a class method to count the total number of persons created.\n",
        "\n",
        "class Person:\n",
        "    count = 0\n",
        "\n",
        "    def __init__(self, name):\n",
        "        self.name = name\n",
        "        Person.count += 1\n",
        "\n",
        "    @classmethod\n",
        "    def total_persons(cls):\n",
        "        return cls.count\n",
        "\n",
        "p1 = Person(\"Alice\")\n",
        "p2 = Person(\"Bob\")\n",
        "p3 = Person(\"Charlie\")\n",
        "\n",
        "print(\"Total Persons Created:\", Person.total_persons())\n"
      ],
      "metadata": {
        "colab": {
          "base_uri": "https://localhost:8080/"
        },
        "id": "MYKIRJJFrqyG",
        "outputId": "0a260edc-b163-4b83-ed80-375571971c09"
      },
      "execution_count": 15,
      "outputs": [
        {
          "output_type": "stream",
          "name": "stdout",
          "text": [
            "Total Persons Created: 3\n"
          ]
        }
      ]
    },
    {
      "cell_type": "code",
      "source": [
        "# 9. Write a class Fraction with attributes numerator and denominator. Override the str method to display the fraction as \"numerator/denominator\".\n",
        "\n",
        "class Fraction:\n",
        "    def __init__(self, numerator, denominator):\n",
        "        self.numerator = numerator\n",
        "        self.denominator = denominator\n",
        "\n",
        "    def __str__(self):\n",
        "        return f\"{self.numerator}/{self.denominator}\"\n",
        "\n",
        "\n",
        "f = Fraction(3, 4)\n",
        "print(f)\n"
      ],
      "metadata": {
        "colab": {
          "base_uri": "https://localhost:8080/"
        },
        "id": "EQfMcLstr6Ua",
        "outputId": "2db037ca-a3fe-47d0-b5fc-a18e914ace68"
      },
      "execution_count": 16,
      "outputs": [
        {
          "output_type": "stream",
          "name": "stdout",
          "text": [
            "3/4\n"
          ]
        }
      ]
    },
    {
      "cell_type": "code",
      "source": [
        "# 10. Demonstrate operator overloading by creating a class Vector and overriding the add method to add two vectors.\n",
        "\n",
        "class Vector:\n",
        "    def __init__(self, x, y):\n",
        "        self.x = x\n",
        "        self.y = y\n",
        "\n",
        "    def __add__(self, other):\n",
        "        return Vector(self.x + other.x, self.y + other.y)\n",
        "\n",
        "    def __str__(self):\n",
        "        return f\"({self.x}, {self.y})\"\n",
        "\n",
        "# Creating vector objects\n",
        "v1 = Vector(2, 3)\n",
        "v2 = Vector(4, 1)\n",
        "\n",
        "# Adding vectors using overloaded + operator\n",
        "v3 = v1 + v2\n",
        "\n",
        "print(\"Resultant Vector:\", v3)  # Output: Resultant Vector: (6, 4)\n"
      ],
      "metadata": {
        "colab": {
          "base_uri": "https://localhost:8080/"
        },
        "id": "4KOyQ66jsIAb",
        "outputId": "8aa4ccbc-b5d2-4576-824c-ff3fe9f5bf9b"
      },
      "execution_count": 17,
      "outputs": [
        {
          "output_type": "stream",
          "name": "stdout",
          "text": [
            "Resultant Vector: (6, 4)\n"
          ]
        }
      ]
    },
    {
      "cell_type": "code",
      "source": [
        "# 11. Create a class Person with attributes name and age. Add a method greet() that prints \"Hello, my name is {name} and I am {age} years old.\"\n",
        "\n",
        "class Person:\n",
        "    def __init__(self, name, age):\n",
        "        self.name = name\n",
        "        self.age = age\n",
        "\n",
        "    def greet(self):\n",
        "        print(f\"Hello, my name is {self.name} and I am {self.age} years old.\")\n",
        "\n",
        "\n",
        "p = Person(\"Alice\", 25)\n",
        "p.greet()\n"
      ],
      "metadata": {
        "colab": {
          "base_uri": "https://localhost:8080/"
        },
        "id": "8KDHZRfbsUAp",
        "outputId": "56aa8be1-07ff-4625-c9ea-90b781a256a7"
      },
      "execution_count": 18,
      "outputs": [
        {
          "output_type": "stream",
          "name": "stdout",
          "text": [
            "Hello, my name is Alice and I am 25 years old.\n"
          ]
        }
      ]
    },
    {
      "cell_type": "code",
      "source": [
        "# 12. Implement a class Student with attributes name and grades. Create a method average_grade() to compute the average of the grades.\n",
        "\n",
        "class Student:\n",
        "    def __init__(self, name, grades):\n",
        "        self.name = name\n",
        "        self.grades = grades\n",
        "\n",
        "    def average_grade(self):\n",
        "        if not self.grades:\n",
        "            return 0\n",
        "        return sum(self.grades) / len(self.grades)\n",
        "\n",
        "# Example usage\n",
        "student = Student(\"Alice\", [80, 90, 85, 95])\n",
        "print(f\"Average grade of {student.name}: {student.average_grade()}\")\n"
      ],
      "metadata": {
        "colab": {
          "base_uri": "https://localhost:8080/"
        },
        "id": "EFXeKaH5skjW",
        "outputId": "196da45e-b8ae-4008-9b17-5027a5a4aa57"
      },
      "execution_count": 19,
      "outputs": [
        {
          "output_type": "stream",
          "name": "stdout",
          "text": [
            "Average grade of Alice: 87.5\n"
          ]
        }
      ]
    },
    {
      "cell_type": "code",
      "source": [
        "# 13. Create a class Rectangle with methods set_dimensions() to set the dimensions and area() to calculate the area.\n",
        "\n",
        "class Rectangle:\n",
        "    def __init__(self):\n",
        "        self.length = 0\n",
        "        self.width = 0\n",
        "\n",
        "    def set_dimensions(self, length, width):\n",
        "        self.length = length\n",
        "        self.width = width\n",
        "\n",
        "    def area(self):\n",
        "        return self.length * self.width\n",
        "\n",
        "# Example usage\n",
        "rect = Rectangle()\n",
        "rect.set_dimensions(5, 3)\n",
        "print(\"Area of Rectangle:\", rect.area())\n"
      ],
      "metadata": {
        "colab": {
          "base_uri": "https://localhost:8080/"
        },
        "id": "IgieJ4uJtNAZ",
        "outputId": "a0ac8ffb-51f7-4757-dd5f-a76b7a73397a"
      },
      "execution_count": 20,
      "outputs": [
        {
          "output_type": "stream",
          "name": "stdout",
          "text": [
            "Area of Rectangle: 15\n"
          ]
        }
      ]
    },
    {
      "cell_type": "code",
      "source": [
        "# 14. Create a class Employee with a method calculate_salary() that computes the salary based on hours worked and hourly rate. Create a derived class Manager that adds a bonus to the salary.\n",
        "\n",
        "class Employee:\n",
        "    def __init__(self, hours_worked, hourly_rate):\n",
        "        self.hours_worked = hours_worked\n",
        "        self.hourly_rate = hourly_rate\n",
        "\n",
        "    def calculate_salary(self):\n",
        "        return self.hours_worked * self.hourly_rate\n",
        "\n",
        "class Manager(Employee):\n",
        "    def __init__(self, hours_worked, hourly_rate, bonus):\n",
        "        super().__init__(hours_worked, hourly_rate)\n",
        "        self.bonus = bonus\n",
        "\n",
        "    def calculate_salary(self):\n",
        "        base_salary = super().calculate_salary()\n",
        "        return base_salary + self.bonus\n",
        "\n",
        "# Example usage\n",
        "emp = Employee(40, 20)\n",
        "mgr = Manager(40, 20, 500)\n",
        "\n",
        "print(\"Employee Salary:\", emp.calculate_salary())   # Output: 800\n",
        "print(\"Manager Salary:\", mgr.calculate_salary())    # Output: 1300\n"
      ],
      "metadata": {
        "colab": {
          "base_uri": "https://localhost:8080/"
        },
        "id": "wn6cVRO1tWs2",
        "outputId": "f1c3b46a-1ed0-43b1-9c81-334415f211bd"
      },
      "execution_count": 21,
      "outputs": [
        {
          "output_type": "stream",
          "name": "stdout",
          "text": [
            "Employee Salary: 800\n",
            "Manager Salary: 1300\n"
          ]
        }
      ]
    },
    {
      "cell_type": "code",
      "source": [
        "# 15. Create a class Product with attributes name, price, and quantity. Implement a method total_price() that calculates the total price of the product.\n",
        "\n",
        "class Product:\n",
        "    def __init__(self, name, price, quantity):\n",
        "        self.name = name\n",
        "        self.price = price\n",
        "        self.quantity = quantity\n",
        "\n",
        "    def total_price(self):\n",
        "        return self.price * self.quantity\n",
        "\n",
        "# Example usage\n",
        "product = Product(\"Laptop\", 50000, 2)\n",
        "print(f\"Total price of {product.name}: {product.total_price()}\")\n"
      ],
      "metadata": {
        "colab": {
          "base_uri": "https://localhost:8080/"
        },
        "id": "9osF1g0_tu-F",
        "outputId": "21bde1dc-ce28-4953-f59c-10cc87c43db8"
      },
      "execution_count": 22,
      "outputs": [
        {
          "output_type": "stream",
          "name": "stdout",
          "text": [
            "Total price of Laptop: 100000\n"
          ]
        }
      ]
    },
    {
      "cell_type": "code",
      "source": [
        "# 16. Create a class Animal with an abstract method sound(). Create two derived classes Cow and Sheep that implement the sound() method.\n",
        "\n",
        "from abc import ABC, abstractmethod\n",
        "\n",
        "class Animal(ABC):\n",
        "    @abstractmethod\n",
        "    def sound(self):\n",
        "        pass\n",
        "\n",
        "class Cow(Animal):\n",
        "    def sound(self):\n",
        "        print(\"Moo\")\n",
        "\n",
        "class Sheep(Animal):\n",
        "    def sound(self):\n",
        "        print(\"Baa\")\n",
        "\n",
        "\n",
        "cow = Cow()\n",
        "sheep = Sheep()\n",
        "\n",
        "cow.sound()\n",
        "sheep.sound()\n"
      ],
      "metadata": {
        "colab": {
          "base_uri": "https://localhost:8080/"
        },
        "id": "7A2amDWot8zb",
        "outputId": "f86b1841-82a9-4a8a-b525-179544b2a58d"
      },
      "execution_count": 23,
      "outputs": [
        {
          "output_type": "stream",
          "name": "stdout",
          "text": [
            "Moo\n",
            "Baa\n"
          ]
        }
      ]
    },
    {
      "cell_type": "code",
      "source": [
        "# 17. Create a class Book with attributes title, author, and year_published. Add a method get_book_info() that returns a formatted string with the book's details.\n",
        "\n",
        "class Book:\n",
        "    def __init__(self, title, author, year_published):\n",
        "        self.title = title\n",
        "        self.author = author\n",
        "        self.year_published = year_published\n",
        "\n",
        "    def get_book_info(self):\n",
        "        return f\"'{self.title}' by {self.author}, published in {self.year_published}\"\n",
        "\n",
        "# Example usage\n",
        "book = Book(\"1984\", \"George Orwell\", 1949)\n",
        "print(book.get_book_info())\n"
      ],
      "metadata": {
        "colab": {
          "base_uri": "https://localhost:8080/"
        },
        "id": "3xp683xQuIFJ",
        "outputId": "c8fbb6ee-9852-4b3a-ee09-5835912c8ced"
      },
      "execution_count": 24,
      "outputs": [
        {
          "output_type": "stream",
          "name": "stdout",
          "text": [
            "'1984' by George Orwell, published in 1949\n"
          ]
        }
      ]
    },
    {
      "cell_type": "code",
      "source": [
        "# 18. Create a class House with attributes address and price. Create a derived class Mansion that adds an attribute number_of_rooms.\n",
        "\n",
        "class House:\n",
        "    def __init__(self, address, price):\n",
        "        self.address = address\n",
        "        self.price = price\n",
        "\n",
        "class Mansion(House):\n",
        "    def __init__(self, address, price, number_of_rooms):\n",
        "        super().__init__(address, price)\n",
        "        self.number_of_rooms = number_of_rooms\n",
        "\n",
        "# Example usage\n",
        "house = House(\"123 Elm Street\", 500000)\n",
        "mansion = Mansion(\"456 Oak Avenue\", 2000000, 10)\n",
        "\n",
        "print(f\"House Address: {house.address}, Price: {house.price}\")\n",
        "print(f\"Mansion Address: {mansion.address}, Price: {mansion.price}, Rooms: {mansion.number_of_rooms}\")\n"
      ],
      "metadata": {
        "colab": {
          "base_uri": "https://localhost:8080/"
        },
        "id": "SXowwXVcuT1-",
        "outputId": "3a440b37-9d81-40b8-d62d-a388b9eed9e4"
      },
      "execution_count": 25,
      "outputs": [
        {
          "output_type": "stream",
          "name": "stdout",
          "text": [
            "House Address: 123 Elm Street, Price: 500000\n",
            "Mansion Address: 456 Oak Avenue, Price: 2000000, Rooms: 10\n"
          ]
        }
      ]
    }
  ]
}